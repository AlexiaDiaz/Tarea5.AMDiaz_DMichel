{
 "cells": [
  {
   "cell_type": "markdown",
   "metadata": {},
   "source": [
    "<img style=\"float: left; margin: 30px 15px 15px 15px;\" src=\"https://pngimage.net/wp-content/uploads/2018/06/logo-iteso-png-5.png\" width=\"300\" height=\"500\" /> \n",
    "    \n",
    "    \n",
    "### <font color='navy'> Simulación de procesos financieros\n",
    "\n",
    "**Nombres:** Alexia Marisol Díaz Verduzco  \n",
    "Daniela Michel Mercado   \n",
    "\n",
    "**Fecha:** 12 de octubre de 2021\n",
    "\n",
    "**Expediente** : if720500   \n",
    "    if724506\n",
    "    \n",
    "**Profesor:** Oscar David Jaramillo Zuluaga\n",
    "    \n",
    "**Link Github**: https://github.com/AlexiaDiaz/Tarea5.AMDiaz_DMichel.git\n",
    "    \n",
    "# Tarea 5: Clase 9"
   ]
  },
  {
   "cell_type": "markdown",
   "metadata": {},
   "source": [
    "## Generación de observaciones aleatorias a partir de una distribución de probabilidad\n",
    "\n",
    "> Para las siguiente dos funciones, genere muestres aleatorias que distribuyan según la función dada usando el método de la transformada inversa y grafique el histograma de 1000 muestras generadas con el método de la transformada inversa y compárela con el función $f(x)$ **(recuerde que $f(x)$ es la distribución de probabilidad y $F(x)$ es la distribución de probabilidad acumulada)** [ver este enlace para más información](https://es.wikipedia.org/wiki/Funci%C3%B3n_de_distribuci%C3%B3n). Este procedimiento se realiza con el fín de validar que el procedimiento y los resultados son correctos.  \n",
    "\n",
    "> **Nota:** Por notación recuerde que para el caso continuo $f(x)$ es la distribución de probabilidad (PDF), mientras $F(x)$ corresponde a la distribución de probabilidad acumulada (CDF). Para el caso discreto, $P(X=i)$ corresponde a su distribución de probabilidad (PMF) y $ F_{X}(x)=\\operatorname {P} (X\\leq x)=\\sum _{x_{i}\\leq x}\\operatorname {P} (X=x_{i})=\\sum _{x_{i}\\leq x}p(x_{i})$, corresponde a su distribución de probabilidad acumulada (CDF)."
   ]
  },
  {
   "cell_type": "markdown",
   "metadata": {},
   "source": [
    "### Ejercicio 1:\n",
    "\n",
    "1. Generación variable aleatoria continua\n",
    "El tiempo en el cual un movimiento browniano se mantiene sobre su punto máximo en el intervalo [0,1] tiene una distribución\n",
    "$$F(x)=\\frac{2}{\\pi}\\sin^{-1}(\\sqrt x),\\quad 0\\leq x\\leq 1$$ </font>"
   ]
  },
  {
   "cell_type": "code",
   "execution_count": 2,
   "metadata": {},
   "outputs": [],
   "source": [
    "import numpy as np\n",
    "import matplotlib.pyplot as plt\n",
    "import pandas as pd"
   ]
  },
  {
   "cell_type": "markdown",
   "metadata": {},
   "source": [
    "####  Respuesta Estudiante 1. Alexia"
   ]
  },
  {
   "cell_type": "markdown",
   "metadata": {},
   "source": [
    "Código de solución estudiante 1"
   ]
  },
  {
   "cell_type": "code",
   "execution_count": 1,
   "metadata": {},
   "outputs": [
    {
     "ename": "SyntaxError",
     "evalue": "invalid syntax (<ipython-input-1-68ac09602021>, line 2)",
     "output_type": "error",
     "traceback": [
      "\u001b[1;36m  File \u001b[1;32m\"<ipython-input-1-68ac09602021>\"\u001b[1;36m, line \u001b[1;32m2\u001b[0m\n\u001b[1;33m    .\u001b[0m\n\u001b[1;37m    ^\u001b[0m\n\u001b[1;31mSyntaxError\u001b[0m\u001b[1;31m:\u001b[0m invalid syntax\n"
     ]
    }
   ],
   "source": [
    "# Código de solución estudiante 1\n",
    ".\n",
    ".\n",
    ".\n",
    ".\n"
   ]
  },
  {
   "cell_type": "markdown",
   "metadata": {},
   "source": [
    "#### Respuesta Estudiante 2. Daniela"
   ]
  },
  {
   "cell_type": "markdown",
   "metadata": {},
   "source": [
    "Código de solución estudiante 2"
   ]
  },
  {
   "cell_type": "code",
   "execution_count": 10,
   "metadata": {},
   "outputs": [],
   "source": [
    "# Código de solución estudiante 2\n",
    "def browniano(N: '# de Muestras'):\n",
    "    return (np.sin((np.pi/2)*np.random.rand(N)))**2"
   ]
  },
  {
   "cell_type": "code",
   "execution_count": 13,
   "metadata": {},
   "outputs": [
    {
     "data": {
      "image/png": "[encoded data removed]",
      "text/plain": [
       "<Figure size 720x576 with 1 Axes>"
      ]
     },
     "metadata": {
      "needs_background": "light"
     },
     "output_type": "display_data"
    }
   ],
   "source": [
    "# Generación de datos\n",
    "N = 1000\n",
    "continua = browniano(N)\n",
    "\n",
    "# Gráfica del histograma y de la función\n",
    "plt.figure(figsize = (10,8))\n",
    "plt.hist(continua,bins = 50, density = True,color='Skyblue', label = 'Datos generados')\n",
    "x = np.linspace(0.01,0.99,200)\n",
    "y = lambda x: 1/(np.pi*(np.sqrt(x*(1-x))))\n",
    "plt.plot(x,y(x),'k',lw = 3, label = 'Función de distribución')\n",
    "plt.title('Histograma por el método de la transformada inversa')\n",
    "plt.ylabel('Probabilidad')\n",
    "plt.xlabel('Muestras')\n",
    "plt.legend()\n",
    "plt.show()"
   ]
  },
  {
   "cell_type": "markdown",
   "metadata": {},
   "source": [
    "### Ejercicio 2:\n",
    "2. Generación variable aleatoria Discreta\n",
    "La distribución binomial modela el número de éxitos de n ensayos independientes donde hay una probabilidad p de éxito en cada ensayo.\n",
    "Generar una variable aletoria binomial con parámetros $n=10$ y $p=0.7$. Recordar que $$X\\sim binomial(n,p) \\longrightarrow p_i=P(X=i)=\\frac{n!}{i!(n-i)!}p^i(1-p)^{n-i},\\quad i=0,1,\\cdots,n$$\n",
    "Por propiedades de la operación factorial la anterior $p_i$ se puede escribir como:\n",
    "$$p_{i+1}=\\frac{n-i}{i+1}\\frac{p}{1-p} p_i $$"
   ]
  },
  {
   "cell_type": "markdown",
   "metadata": {},
   "source": [
    "####  Respuesta Estudiante 1. Alexia"
   ]
  },
  {
   "cell_type": "markdown",
   "metadata": {},
   "source": [
    "Código de solución estudiante 1"
   ]
  },
  {
   "cell_type": "code",
   "execution_count": null,
   "metadata": {},
   "outputs": [],
   "source": [
    "# Código de solución estudiante 1\n",
    ".\n",
    ".\n",
    ".\n",
    "."
   ]
  },
  {
   "cell_type": "markdown",
   "metadata": {},
   "source": [
    "#### Respuesta Estudiante 2. Daniela"
   ]
  },
  {
   "cell_type": "markdown",
   "metadata": {},
   "source": [
    "Código de solución estudiante 2"
   ]
  },
  {
   "cell_type": "code",
   "execution_count": 5,
   "metadata": {},
   "outputs": [],
   "source": [
    "# Código de solución estudiante 2\n",
    "\n",
    "def Binomial_acum(n:'Valor n de binomial',p:'Probabilidad'):\n",
    "    Pr = np.zeros(n)\n",
    "    Pr[0] = (1-p)**n\n",
    "    def pr(i):\n",
    "        nonlocal Pr\n",
    "        Pr[i+1]=((p/(1-p))*(n-i)/(i+1))*Pr[i]\n",
    "    [pr(i) for i in range(n-1)]\n",
    "    return np.cumsum(Pr)\n",
    "def Inversa_binomial(p_acum: 'Probabilidad acumulada',N: 'Cantidad de números a generar'):\n",
    "    index = range(0,n+1)\n",
    "    U =np.random.rand(N)\n",
    "    # Diccionario de valores aleatorios\n",
    "    rand2reales = {i: idx for i, idx in enumerate(index)}\n",
    "\n",
    "    # Series de los valores aletorios\n",
    "    y = pd.Series([sum([1 for p in p_acum if p < ui]) for ui in U]).map(rand2reales)\n",
    "    return y"
   ]
  },
  {
   "cell_type": "code",
   "execution_count": 15,
   "metadata": {},
   "outputs": [
    {
     "data": {
      "image/png": "[encoded data removed]",
      "text/plain": [
       "<Figure size 720x288 with 1 Axes>"
      ]
     },
     "metadata": {
      "needs_background": "light"
     },
     "output_type": "display_data"
    },
    {
     "data": {
      "text/plain": [
       "<matplotlib.legend.Legend at 0x262b9119108>"
      ]
     },
     "execution_count": 15,
     "metadata": {},
     "output_type": "execute_result"
    },
    {
     "data": {
      "image/png": "[encoded data removed]",
      "text/plain": [
       "<Figure size 720x288 with 1 Axes>"
      ]
     },
     "metadata": {
      "needs_background": "light"
     },
     "output_type": "display_data"
    }
   ],
   "source": [
    "N = 1000\n",
    "n = 10\n",
    "p = 0.7\n",
    "dis = Binomial_acum(n,p)\n",
    "muestra = Inversa_binomial(dis,N)\n",
    "\n",
    "\n",
    "# Histograma de la muestra generada por el método de la transformada inversa\n",
    "plt.figure(figsize=[10,4])\n",
    "y, x = np.histogram(muestra, bins=len(set(muestra)), density=True) \n",
    "plt.bar(range(min(muestra),11), y, color='plum',label='Transformada inversa')\n",
    "plt.legend()\n",
    "plt.title('Histograma por el método de la transformada inversa')\n",
    "plt.show()\n",
    "\n",
    "# Distribución de probabilidad original\n",
    "bino = np.random.binomial(n,p,N)\n",
    "plt.figure(figsize=[10,4])\n",
    "y1, x1 = np.histogram(muestra, bins=len(set(muestra)), density=True) \n",
    "plt.bar(x[1:], y, color = 'Khaki',label='Distribución binomail n=10, p = 0.7')\n",
    "plt.title('Distribución de probabilidad binomial')\n",
    "plt.legend()"
   ]
  },
  {
   "cell_type": "code",
   "execution_count": null,
   "metadata": {},
   "outputs": [],
   "source": []
  }
 ],
 "metadata": {
  "kernelspec": {
   "display_name": "Python 3",
   "language": "python",
   "name": "python3"
  },
  "language_info": {
   "codemirror_mode": {
    "name": "ipython",
    "version": 3
   },
   "file_extension": ".py",
   "mimetype": "text/x-python",
   "name": "python",
   "nbconvert_exporter": "python",
   "pygments_lexer": "ipython3",
   "version": "3.7.4"
  }
 },
 "nbformat": 4,
 "nbformat_minor": 2
}
